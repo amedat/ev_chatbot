{
 "cells": [
  {
   "cell_type": "code",
   "execution_count": 43,
   "metadata": {},
   "outputs": [],
   "source": [
    "import torch\n",
    "\n",
    "import numpy as np"
   ]
  },
  {
   "cell_type": "markdown",
   "metadata": {},
   "source": [
    "---"
   ]
  },
  {
   "cell_type": "markdown",
   "metadata": {},
   "source": [
    "![title](images/vocab_one_hot.png)"
   ]
  },
  {
   "cell_type": "code",
   "execution_count": 44,
   "metadata": {},
   "outputs": [
    {
     "name": "stdout",
     "output_type": "stream",
     "text": [
      "[[1. 0. 0. 0. 0. 0. 0.]\n",
      " [0. 1. 0. 0. 0. 0. 0.]\n",
      " [0. 0. 1. 0. 0. 0. 0.]\n",
      " [0. 0. 0. 1. 0. 0. 0.]\n",
      " [0. 0. 0. 0. 1. 0. 0.]\n",
      " [0. 0. 0. 0. 0. 1. 0.]\n",
      " [0. 0. 0. 0. 0. 0. 1.]]\n",
      "(7, 7)\n"
     ]
    }
   ],
   "source": [
    "# vocab of one-hot vectors\n",
    "vocab_size = 7\n",
    "vocab = np.eye(vocab_size)\n",
    "\n",
    "print(vocab)\n",
    "print(vocab.shape)"
   ]
  },
  {
   "cell_type": "markdown",
   "metadata": {},
   "source": [
    "---"
   ]
  },
  {
   "cell_type": "markdown",
   "metadata": {},
   "source": [
    "M is a T-th order lower triangular matrix"
   ]
  },
  {
   "cell_type": "markdown",
   "metadata": {},
   "source": [
    "![title](images/matrix.png)"
   ]
  },
  {
   "cell_type": "code",
   "execution_count": 13,
   "metadata": {},
   "outputs": [],
   "source": [
    "# forgetting factor (alpha) --> ]0,1[\n",
    "ff = 0.5"
   ]
  },
  {
   "cell_type": "code",
   "execution_count": 51,
   "metadata": {},
   "outputs": [
    {
     "name": "stdout",
     "output_type": "stream",
     "text": [
      "tensor([[1.0000, 0.0000, 0.0000, 0.0000, 0.0000, 0.0000],\n",
      "        [0.5000, 1.0000, 0.0000, 0.0000, 0.0000, 0.0000],\n",
      "        [0.2500, 0.5000, 1.0000, 0.0000, 0.0000, 0.0000],\n",
      "        [0.1250, 0.2500, 0.5000, 1.0000, 0.0000, 0.0000],\n",
      "        [0.0625, 0.1250, 0.2500, 0.5000, 1.0000, 0.0000],\n",
      "        [0.0312, 0.0625, 0.1250, 0.2500, 0.5000, 1.0000]], dtype=torch.float64)\n"
     ]
    }
   ],
   "source": [
    "M1 = torch.tensor([[1]\n",
    "                  ], dtype=torch.float64)\n",
    "\n",
    "M2 = torch.tensor([[1,  0],\n",
    "                   [ff, 1]\n",
    "                  ], dtype=torch.float64)\n",
    "\n",
    "M3 = torch.tensor([[1,     0,     0],\n",
    "                   [ff**1, 1,     0],\n",
    "                   [ff**2, ff**1, 1],\n",
    "                  ], dtype=torch.float64)\n",
    "\n",
    "M4 = torch.tensor([[1,     0,     0,     0],\n",
    "                   [ff**1, 1,     0,     0],\n",
    "                   [ff**2, ff**1, 1,     0],\n",
    "                   [ff**3, ff**2, ff**1, 1],\n",
    "                  ], dtype=torch.float64)\n",
    "\n",
    "M5 = torch.tensor([[1,     0,     0,     0,     0],\n",
    "                   [ff**1, 1,     0,     0,     0],\n",
    "                   [ff**2, ff**1, 1,     0,     0],\n",
    "                   [ff**3, ff**2, ff**1, 1,     0],\n",
    "                   [ff**4, ff**3, ff**2, ff**1, 1],\n",
    "                  ], dtype=torch.float64)\n",
    "\n",
    "M6 = torch.tensor([[1,     0,     0,     0,     0,     0],\n",
    "                   [ff**1, 1,     0,     0,     0,     0],\n",
    "                   [ff**2, ff**1, 1,     0,     0,     0],\n",
    "                   [ff**3, ff**2, ff**1, 1,     0,     0],\n",
    "                   [ff**4, ff**3, ff**2, ff**1, 1,     0],\n",
    "                   [ff**5, ff**4, ff**3, ff**2, ff**1, 1],\n",
    "                  ], dtype=torch.float64)\n",
    "print(M6)"
   ]
  },
  {
   "cell_type": "markdown",
   "metadata": {},
   "source": [
    "---"
   ]
  },
  {
   "cell_type": "markdown",
   "metadata": {},
   "source": [
    "## FOFE encoding\n",
    "A sentence of 2 words: the second line of table 3.2 above"
   ]
  },
  {
   "cell_type": "markdown",
   "metadata": {},
   "source": [
    "![title](images/partial_encoding.png)"
   ]
  },
  {
   "cell_type": "code",
   "execution_count": 54,
   "metadata": {},
   "outputs": [
    {
     "name": "stdout",
     "output_type": "stream",
     "text": [
      "tensor([[0., 0., 0., 0., 0., 0., 1.],\n",
      "        [0., 0., 0., 0., 1., 0., 0.]], dtype=torch.float64)\n",
      "torch.Size([2, 7])\n"
     ]
    }
   ],
   "source": [
    "# V is a matrix arranging all one-hot codes of the words in the sentence row by row.\n",
    "# For sentence {w6, w4}, V = [e6, e4] => [[0., 0., 0., 0., 0., 0., 1.], [0., 0., 0., 0., 1., 0., 0.]]\n",
    "V_w6w4 = torch.tensor([vocab[6], vocab[4]], dtype=torch.float64)\n",
    "print(V_w6w4)\n",
    "print(V_w6w4.shape)"
   ]
  },
  {
   "cell_type": "code",
   "execution_count": 62,
   "metadata": {},
   "outputs": [
    {
     "name": "stdout",
     "output_type": "stream",
     "text": [
      "tensor([[0.0000, 0.0000, 0.0000, 0.0000, 0.0000, 0.0000, 1.0000],\n",
      "        [0.0000, 0.0000, 0.0000, 0.0000, 1.0000, 0.0000, 0.5000]],\n",
      "       dtype=torch.float64)\n"
     ]
    }
   ],
   "source": [
    "# Multiply matrices to get the FOFE encoding\n",
    "S = M2.mm(V_w6w4)\n",
    "print(S)"
   ]
  },
  {
   "cell_type": "markdown",
   "metadata": {},
   "source": [
    "Each row vector of S represents a FOFE code of the partial sequence up to each position in the sentence."
   ]
  },
  {
   "cell_type": "code",
   "execution_count": 64,
   "metadata": {},
   "outputs": [
    {
     "name": "stdout",
     "output_type": "stream",
     "text": [
      "FOFE for sentence (word6, word4) is:\n",
      "tensor([0.0000, 0.0000, 0.0000, 0.0000, 1.0000, 0.0000, 0.5000],\n",
      "       dtype=torch.float64)\n"
     ]
    }
   ],
   "source": [
    "# So, the FOFE Encoding for [word6, word4] is the last row of S\n",
    "print(f\"FOFE for sentence (word6, word4) is:\\n{S[-1]}\")"
   ]
  },
  {
   "cell_type": "markdown",
   "metadata": {},
   "source": [
    "---"
   ]
  },
  {
   "cell_type": "markdown",
   "metadata": {},
   "source": [
    "## Compute another FOFE encoding\n",
    "A sentence of 6 words: the last line of table 3.2 above"
   ]
  },
  {
   "cell_type": "code",
   "execution_count": 65,
   "metadata": {},
   "outputs": [
    {
     "name": "stdout",
     "output_type": "stream",
     "text": [
      "torch.Size([6, 7])\n"
     ]
    }
   ],
   "source": [
    "V_645054 = torch.tensor([vocab[6], vocab[4], vocab[5], vocab[0], vocab[5], vocab[4]], dtype=torch.float64)\n",
    "print(V_645054.shape)"
   ]
  },
  {
   "cell_type": "code",
   "execution_count": 66,
   "metadata": {},
   "outputs": [
    {
     "name": "stdout",
     "output_type": "stream",
     "text": [
      "FOFE for sentence (word6, word4, word5, word0, word5, word4) is:\n",
      "tensor([0.2500, 0.0000, 0.0000, 0.0000, 1.0625, 0.6250, 0.0312],\n",
      "       dtype=torch.float64)\n"
     ]
    }
   ],
   "source": [
    "S = M6.mm(V_645054)\n",
    "print(f\"FOFE for sentence (word6, word4, word5, word0, word5, word4) is:\\n{S[-1]}\")"
   ]
  },
  {
   "cell_type": "code",
   "execution_count": 72,
   "metadata": {},
   "outputs": [
    {
     "name": "stdout",
     "output_type": "stream",
     "text": [
      "Are computed FOFE and Expected FOFE equal --> True\n"
     ]
    }
   ],
   "source": [
    "expected_fofe = torch.tensor([ff**2, 0, 0, 0, 1+ff**4, ff+ff**3, ff**5], dtype=torch.float64)\n",
    "print(f\"Are computed FOFE and Expected FOFE equal --> {expected_fofe.equal(S[-1])}\")"
   ]
  },
  {
   "cell_type": "markdown",
   "metadata": {},
   "source": [
    "---"
   ]
  },
  {
   "cell_type": "markdown",
   "metadata": {},
   "source": [
    "## Pre-compute all M matrices"
   ]
  },
  {
   "cell_type": "markdown",
   "metadata": {},
   "source": [
    "![title](images/matrix.png)"
   ]
  },
  {
   "cell_type": "code",
   "execution_count": 89,
   "metadata": {},
   "outputs": [],
   "source": [
    "def compute_m_matrix(forgetting_factor, order):\n",
    "    \"\"\"\n",
    "    Arguments\n",
    "        forgetting_factor - float, forgetting factor (alpha value) between 0 and 1 exclusively\n",
    "        order - integer, the order of the lower triangular matrix\n",
    "    Returns\n",
    "        numpy array, the lower triangular matrix of shape (order, order)\n",
    "    \"\"\"\n",
    "    # starts with an all zero matrix of the correct size\n",
    "    m = np.zeros((order, order))\n",
    "    \n",
    "    # fill the lower triangle with power of the forgetting factor (ff)\n",
    "    for c in range(order):       # loop over each columns\n",
    "        p = 0                    # reset power value\n",
    "        for r in range(order):   # loop over each rows\n",
    "            if r >= c:\n",
    "                m[r,c] = forgetting_factor**p\n",
    "                p += 1\n",
    "    return m"
   ]
  },
  {
   "cell_type": "code",
   "execution_count": 97,
   "metadata": {},
   "outputs": [],
   "source": [
    "# T is the higher order of the matrix, \n",
    "# this is also the max number of token per sentence we will accept\n",
    "T = 50\n",
    "M = []\n",
    "for t in range(T):\n",
    "    M.append(compute_m_matrix(forgetting_factor=0.5, order=t))"
   ]
  },
  {
   "cell_type": "markdown",
   "metadata": {},
   "source": [
    "---"
   ]
  },
  {
   "cell_type": "markdown",
   "metadata": {},
   "source": [
    "Compare the computed matrix for order 6 to the one created manually at the top of this notebook"
   ]
  },
  {
   "cell_type": "code",
   "execution_count": 101,
   "metadata": {},
   "outputs": [
    {
     "data": {
      "text/plain": [
       "array([[1.     , 0.     , 0.     , 0.     , 0.     , 0.     ],\n",
       "       [0.5    , 1.     , 0.     , 0.     , 0.     , 0.     ],\n",
       "       [0.25   , 0.5    , 1.     , 0.     , 0.     , 0.     ],\n",
       "       [0.125  , 0.25   , 0.5    , 1.     , 0.     , 0.     ],\n",
       "       [0.0625 , 0.125  , 0.25   , 0.5    , 1.     , 0.     ],\n",
       "       [0.03125, 0.0625 , 0.125  , 0.25   , 0.5    , 1.     ]])"
      ]
     },
     "execution_count": 101,
     "metadata": {},
     "output_type": "execute_result"
    }
   ],
   "source": [
    "M[6]"
   ]
  },
  {
   "cell_type": "code",
   "execution_count": 109,
   "metadata": {},
   "outputs": [
    {
     "data": {
      "text/plain": [
       "True"
      ]
     },
     "execution_count": 109,
     "metadata": {},
     "output_type": "execute_result"
    }
   ],
   "source": [
    "(M6.numpy() == M[6]).all()"
   ]
  }
 ],
 "metadata": {
  "kernelspec": {
   "display_name": "Python 3",
   "language": "python",
   "name": "python3"
  },
  "language_info": {
   "codemirror_mode": {
    "name": "ipython",
    "version": 3
   },
   "file_extension": ".py",
   "mimetype": "text/x-python",
   "name": "python",
   "nbconvert_exporter": "python",
   "pygments_lexer": "ipython3",
   "version": "3.6.9"
  }
 },
 "nbformat": 4,
 "nbformat_minor": 2
}
